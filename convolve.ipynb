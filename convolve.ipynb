{
 "cells": [
  {
   "cell_type": "code",
   "execution_count": 3,
   "metadata": {},
   "outputs": [
    {
     "name": "stderr",
     "output_type": "stream",
     "text": [
      "/var/folders/p0/_rv7hyx175s58w5dhg463z8w0000gn/T/ipykernel_44800/546418257.py:6: WavFileWarning: Reached EOF prematurely; finished at 5292079 bytes, expected 4294967303 bytes from header.\n",
      "  rate1, audio1 = wavfile.read(\"wav2.wav\")\n",
      "/var/folders/p0/_rv7hyx175s58w5dhg463z8w0000gn/T/ipykernel_44800/546418257.py:7: WavFileWarning: Reached EOF prematurely; finished at 5292079 bytes, expected 4294967303 bytes from header.\n",
      "  rate2, audio2 = wavfile.read(\"wav1.wav\")\n"
     ]
    }
   ],
   "source": [
    "import numpy as np\n",
    "from scipy.io import wavfile\n",
    "from scipy.signal import fftconvolve\n",
    "\n",
    "# Load two .wav files\n",
    "rate1, audio1 = wavfile.read(\"wav2.wav\")\n",
    "rate2, audio2 = wavfile.read(\"wav1.wav\")\n",
    "\n",
    "# Resample or trim if sampling rates or lengths differ\n",
    "min_len = min(len(audio1), len(audio2))\n",
    "audio1 = audio1[:min_len]\n",
    "audio2 = audio2[:min_len]\n",
    "\n",
    "# Convert to mono if stereo\n",
    "if audio1.ndim > 1:\n",
    "    audio1 = np.mean(audio1, axis=1)\n",
    "if audio2.ndim > 1:\n",
    "    audio2 = np.mean(audio2, axis=1)\n",
    "\n",
    "# Normalize to float\n",
    "audio1 = audio1.astype(np.float32) / np.max(np.abs(audio1))\n",
    "audio2 = audio2.astype(np.float32) / np.max(np.abs(audio2))\n",
    "\n",
    "# Perform convolution\n",
    "convolved = fftconvolve(audio1, audio2, mode='full')\n",
    "\n",
    "# Normalize to avoid clipping\n",
    "convolved /= np.max(np.abs(convolved))\n",
    "\n",
    "# Write to file\n",
    "from scipy.io.wavfile import write\n",
    "write(\"convolved2.wav\", rate1, (convolved * 32767).astype(np.int16))"
   ]
  }
 ],
 "metadata": {
  "kernelspec": {
   "display_name": "Python 3",
   "language": "python",
   "name": "python3"
  },
  "language_info": {
   "codemirror_mode": {
    "name": "ipython",
    "version": 3
   },
   "file_extension": ".py",
   "mimetype": "text/x-python",
   "name": "python",
   "nbconvert_exporter": "python",
   "pygments_lexer": "ipython3",
   "version": "3.9.6"
  }
 },
 "nbformat": 4,
 "nbformat_minor": 2
}
